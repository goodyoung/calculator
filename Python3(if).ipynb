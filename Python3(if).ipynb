{
 "cells": [
  {
   "cell_type": "markdown",
   "id": "f3441eb8-804c-4940-9ee6-c4de3b8f66b6",
   "metadata": {},
   "source": [
    "indent (들여쓰기)"
   ]
  },
  {
   "cell_type": "code",
   "execution_count": 1,
   "id": "8b63cacb-8653-4423-aa34-ef2f815f4c17",
   "metadata": {},
   "outputs": [
    {
     "ename": "IndentationError",
     "evalue": "expected an indented block (1448819568.py, line 3)",
     "output_type": "error",
     "traceback": [
      "\u001b[1;36m  Input \u001b[1;32mIn [1]\u001b[1;36m\u001b[0m\n\u001b[1;33m    print('sdaa')\u001b[0m\n\u001b[1;37m    ^\u001b[0m\n\u001b[1;31mIndentationError\u001b[0m\u001b[1;31m:\u001b[0m expected an indented block\n"
     ]
    }
   ],
   "source": [
    "a=True\n",
    "if a:\n",
    "print('sdaa')"
   ]
  },
  {
   "cell_type": "code",
   "execution_count": null,
   "id": "ac74c7c2-a9bf-45ee-a1bd-8087c41d0e35",
   "metadata": {},
   "outputs": [
    {
     "name": "stdout",
     "output_type": "stream",
     "text": [
      "참\n"
     ]
    }
   ],
   "source": [
    "if 1>0:\n",
    "    print('참')"
   ]
  },
  {
   "cell_type": "code",
   "execution_count": null,
   "id": "6281a440-4c8f-46c1-ab46-3cc3e54e943d",
   "metadata": {},
   "outputs": [
    {
     "name": "stdout",
     "output_type": "stream",
     "text": [
      "참\n"
     ]
    }
   ],
   "source": [
    "if True:\n",
    "    print('참')"
   ]
  },
  {
   "cell_type": "code",
   "execution_count": null,
   "id": "244950ff-3cc2-4a49-bd69-9d7e6d7c9b85",
   "metadata": {},
   "outputs": [],
   "source": [
    "if False:\n",
    "    print('거짓')"
   ]
  },
  {
   "cell_type": "code",
   "execution_count": null,
   "id": "8f62b486-3c62-4bf2-8f63-baa201184cba",
   "metadata": {},
   "outputs": [
    {
     "name": "stdout",
     "output_type": "stream",
     "text": [
      "끝\n"
     ]
    }
   ],
   "source": [
    "if 0 :\n",
    "    print('거짓')\n",
    "print('끝')"
   ]
  },
  {
   "cell_type": "code",
   "execution_count": null,
   "id": "81ca45b8-a070-4cb7-91c3-f6661ad8584d",
   "metadata": {},
   "outputs": [],
   "source": [
    "if '':\n",
    "    print('test') #공백도 False"
   ]
  },
  {
   "cell_type": "code",
   "execution_count": null,
   "id": "90e20559-87c5-45d7-9b47-f1afe002875e",
   "metadata": {},
   "outputs": [
    {
     "data": {
      "text/plain": [
       "False"
      ]
     },
     "execution_count": 25,
     "metadata": {},
     "output_type": "execute_result"
    }
   ],
   "source": [
    "'apple' < 'app'"
   ]
  },
  {
   "cell_type": "code",
   "execution_count": null,
   "id": "b8caf416-431a-40a9-ae84-f6619a6a39b1",
   "metadata": {},
   "outputs": [
    {
     "data": {
      "text/plain": [
       "True"
      ]
     },
     "execution_count": 27,
     "metadata": {},
     "output_type": "execute_result"
    }
   ],
   "source": [
    "(3>1) and (4>2)"
   ]
  },
  {
   "cell_type": "code",
   "execution_count": null,
   "id": "6603cd4d-0297-41eb-877f-088331e22b78",
   "metadata": {},
   "outputs": [
    {
     "data": {
      "text/plain": [
       "True"
      ]
     },
     "execution_count": 28,
     "metadata": {},
     "output_type": "execute_result"
    }
   ],
   "source": [
    "(3>1) or (4<2)"
   ]
  },
  {
   "cell_type": "code",
   "execution_count": null,
   "id": "3b2d4ce5-a68d-4633-980a-272b2735c199",
   "metadata": {},
   "outputs": [],
   "source": [
    "#in /// not in"
   ]
  },
  {
   "cell_type": "code",
   "execution_count": null,
   "id": "d8fdf8ff-8893-4877-8285-1783f3b2b565",
   "metadata": {},
   "outputs": [],
   "source": [
    "# in: 문자열이나 리스트에서 해당 요소가 포함되어 있는지 검사\n",
    "# not in: 문자열이나 리스트에서 해당 요소가 포함되어 있지 않는지 검사"
   ]
  },
  {
   "cell_type": "code",
   "execution_count": null,
   "id": "2e2edeb8-526d-4495-b024-d65b6c79f7f2",
   "metadata": {},
   "outputs": [
    {
     "data": {
      "text/plain": [
       "True"
      ]
     },
     "execution_count": 44,
     "metadata": {},
     "output_type": "execute_result"
    }
   ],
   "source": [
    "l=(1,2,3)\n",
    "3 in l"
   ]
  },
  {
   "cell_type": "code",
   "execution_count": null,
   "id": "4f3fe838-76fd-40ff-8f79-72e36caf3baa",
   "metadata": {},
   "outputs": [
    {
     "data": {
      "text/plain": [
       "True"
      ]
     },
     "execution_count": 46,
     "metadata": {},
     "output_type": "execute_result"
    }
   ],
   "source": [
    "'a' in 'apple'"
   ]
  },
  {
   "cell_type": "code",
   "execution_count": null,
   "id": "95e37901-b6c7-4f32-b5a4-69fc4e09aba9",
   "metadata": {},
   "outputs": [
    {
     "data": {
      "text/plain": [
       "False"
      ]
     },
     "execution_count": 49,
     "metadata": {},
     "output_type": "execute_result"
    }
   ],
   "source": [
    "'a' not in ['apple', 'banana','a']"
   ]
  },
  {
   "cell_type": "code",
   "execution_count": null,
   "id": "6ebb0973-1071-4ca2-b3c1-1cde77a52c30",
   "metadata": {},
   "outputs": [],
   "source": [
    "if:\n",
    "elif:\n",
    "else:"
   ]
  },
  {
   "cell_type": "code",
   "execution_count": null,
   "id": "5a65fcca-9f44-4fa9-9c5e-a1629b9e25e2",
   "metadata": {},
   "outputs": [
    {
     "name": "stdout",
     "output_type": "stream",
     "text": [
      "a는 10보다 작습니다\n"
     ]
    }
   ],
   "source": [
    "a=6\n",
    "if a < 5:\n",
    "    print('a는 5보다 작습니다.')\n",
    "elif a<10:\n",
    "    print('a는 10보다 작습니다')\n"
   ]
  },
  {
   "cell_type": "code",
   "execution_count": null,
   "id": "983a55bb-9b5a-419f-9d47-01525a7482ac",
   "metadata": {},
   "outputs": [
    {
     "name": "stdout",
     "output_type": "stream",
     "text": [
      "a는 10보다 큽니다.\n"
     ]
    }
   ],
   "source": [
    "a=15\n",
    "if a<5:\n",
    "    print('a는 5보다 작습니다.') \n",
    "elif a<10:\n",
    "    print('a는 10보다 작습니다')\n",
    "else:\n",
    "    print('a는 10보다 큽니다.')"
   ]
  },
  {
   "cell_type": "code",
   "execution_count": null,
   "id": "923ed48d-eec2-4dd3-a112-ae00edf3d2ac",
   "metadata": {},
   "outputs": [
    {
     "name": "stdout",
     "output_type": "stream",
     "text": [
      "sd\n"
     ]
    }
   ],
   "source": [
    "a=2\n",
    "if 0 < a < 5 :\n",
    "    print('sd')"
   ]
  },
  {
   "cell_type": "markdown",
   "id": "6da9d3b8-3c9b-4625-bb00-c3f7eaa4630e",
   "metadata": {},
   "source": [
    "1. 주어진 숫자가 홀 짝인지 구하시오"
   ]
  },
  {
   "cell_type": "code",
   "execution_count": null,
   "id": "e7761472-2c50-4064-8241-3d16fa808309",
   "metadata": {},
   "outputs": [
    {
     "name": "stdout",
     "output_type": "stream",
     "text": [
      "주어진 숫자가 홀수입니다.\n"
     ]
    }
   ],
   "source": [
    "num = 11\n",
    "if num % 2 == 0:\n",
    "    print('주어진 숫자가 짝수입니다.')\n",
    "else:\n",
    "    print('주어진 숫자가 홀수입니다.')"
   ]
  },
  {
   "cell_type": "code",
   "execution_count": null,
   "id": "acc1ed62-03ba-4397-888d-aaa7c34fc86a",
   "metadata": {},
   "outputs": [
    {
     "data": {
      "text/plain": [
       "True"
      ]
     },
     "execution_count": 86,
     "metadata": {},
     "output_type": "execute_result"
    }
   ],
   "source": [
    "isinstance('0',str)"
   ]
  },
  {
   "cell_type": "code",
   "execution_count": null,
   "id": "bf086634-f7c4-40b0-b5a1-75ebd92b1103",
   "metadata": {},
   "outputs": [
    {
     "name": "stdout",
     "output_type": "stream",
     "text": [
      "num은 0입니다.\n"
     ]
    }
   ],
   "source": [
    "num=0\n",
    "if isinstance(num,int):\n",
    "    if num == 0:\n",
    "        print('num은 0입니다.')\n",
    "    elif int(num)%2==0:\n",
    "        print('짝수')\n",
    "    else:\n",
    "        print('홀수')\n",
    "else:\n",
    "    print('num은 문자열입니다!'"
   ]
  },
  {
   "cell_type": "code",
   "execution_count": null,
   "id": "60781430-5963-46ff-bb16-253bb259c4b1",
   "metadata": {},
   "outputs": [
    {
     "name": "stdout",
     "output_type": "stream",
     "text": [
      "나이를 입력해주세요 ㄴ\n"
     ]
    }
   ],
   "source": [
    "user_age=input('나이를 입력해주세요')"
   ]
  },
  {
   "cell_type": "code",
   "execution_count": null,
   "id": "a7c28e59-92de-4448-938d-e438e591aff6",
   "metadata": {},
   "outputs": [
    {
     "name": "stdout",
     "output_type": "stream",
     "text": [
      " 2\n"
     ]
    },
    {
     "name": "stdout",
     "output_type": "stream",
     "text": [
      "2\n"
     ]
    }
   ],
   "source": [
    "try:\n",
    "    user_age= input()\n",
    "    print(int(user_age))\n",
    "except:\n",
    "    print('숫자를 입력해주세요')"
   ]
  },
  {
   "cell_type": "markdown",
   "id": "414efcb9-27ce-4c9c-81c3-63eedd5ead1a",
   "metadata": {},
   "source": [
    "### quiz\n"
   ]
  },
  {
   "cell_type": "code",
   "execution_count": null,
   "id": "08a09668-5374-4a48-a4d8-9b75b94e42df",
   "metadata": {},
   "outputs": [
    {
     "name": "stdout",
     "output_type": "stream",
     "text": [
      " 20\n"
     ]
    },
    {
     "name": "stdout",
     "output_type": "stream",
     "text": [
      "성인\n"
     ]
    }
   ],
   "source": [
    "user_age=int(input())\n",
    "if user_age>=20:\n",
    "    print('성인')\n",
    "else:\n",
    "    print('미성년자')"
   ]
  },
  {
   "cell_type": "code",
   "execution_count": null,
   "id": "a8353f7a-6e8d-4c98-bb50-fdfe763af8d6",
   "metadata": {},
   "outputs": [
    {
     "name": "stdout",
     "output_type": "stream",
     "text": [
      "20대\n"
     ]
    }
   ],
   "source": [
    "if user_age>=40:\n",
    "    print('40대 이상')\n",
    "elif 30 <= user_age <40:\n",
    "    print('30대')\n",
    "elif 20 <= user_age <30:\n",
    "    print('20대')\n",
    "else:\n",
    "    print('20대 미만')"
   ]
  },
  {
   "cell_type": "code",
   "execution_count": null,
   "id": "c30019b1-7d39-4ab2-9fb2-4bee635ebb81",
   "metadata": {},
   "outputs": [
    {
     "name": "stdout",
     "output_type": "stream",
     "text": [
      " 유재석\n"
     ]
    },
    {
     "name": "stdout",
     "output_type": "stream",
     "text": [
      "사용자의 성은 유 입니다.\n"
     ]
    }
   ],
   "source": [
    "user_name=input()\n",
    "user_name1=user_name[0]\n",
    "print('사용자의 성은',user_name1,'입니다.')"
   ]
  },
  {
   "cell_type": "code",
   "execution_count": null,
   "id": "8577f62a-9dad-406c-beb2-a5b8303b6208",
   "metadata": {},
   "outputs": [
    {
     "name": "stdout",
     "output_type": "stream",
     "text": [
      "사용자의 성이 포함 안됩니다.\n"
     ]
    }
   ],
   "source": [
    "popular_last_name=['김','이','박']\n",
    "\n",
    "if user_name1 in popular_last_name:\n",
    "    print('사용자의 성이 포함 됩니다.')\n",
    "else:\n",
    "    print('사용자의 성이 포함 안됩니다.')"
   ]
  },
  {
   "cell_type": "code",
   "execution_count": null,
   "id": "e3c33612-0912-4003-afbb-c52b4eeb5159",
   "metadata": {},
   "outputs": [
    {
     "name": "stdout",
     "output_type": "stream",
     "text": [
      "26\n"
     ]
    }
   ],
   "source": [
    "user_info={'홍길동':24,'유재석':26,'김종국':27}\n",
    "user_info1=user_info.keys()\n",
    "if user_name in user_info1:\n",
    "    print(user_info[user_name])"
   ]
  },
  {
   "cell_type": "code",
   "execution_count": null,
   "id": "0a8d3e81-6a95-4f12-80e8-4de00f800954",
   "metadata": {},
   "outputs": [
    {
     "name": "stdout",
     "output_type": "stream",
     "text": [
      " 1,2,3\n"
     ]
    },
    {
     "name": "stdout",
     "output_type": "stream",
     "text": [
      "3\n"
     ]
    }
   ],
   "source": [
    "user_num=input().split(',')\n",
    "print(max(user_num))"
   ]
  },
  {
   "cell_type": "code",
   "execution_count": null,
   "id": "cc2a1d49-b6d7-408c-a0fa-fa636c1db758",
   "metadata": {},
   "outputs": [
    {
     "name": "stdout",
     "output_type": "stream",
     "text": [
      " 900000-2000000\n"
     ]
    },
    {
     "name": "stdout",
     "output_type": "stream",
     "text": [
      "여자\n"
     ]
    }
   ],
   "source": [
    "user_private =input()\n",
    "sex = user_private[user_private.find('-')+1]\n",
    "\n",
    "if int(sex) == 1 or int(sex) == 3:\n",
    "    print('남자')\n",
    "elif int(sex) == 2 or int(sex) == 4:\n",
    "    print('여자')\n",
    "else:\n",
    "    print('오류')"
   ]
  },
  {
   "cell_type": "code",
   "execution_count": 2,
   "id": "5634e535-8409-4a70-9a86-540844c807bc",
   "metadata": {},
   "outputs": [],
   "source": [
    "# user_num1= list(map(int,input().split(',')))\n",
    "# print(user_num1)"
   ]
  },
  {
   "cell_type": "code",
   "execution_count": 5,
   "id": "4620dee0-5179-4423-9cba-cc788c2bff7d",
   "metadata": {},
   "outputs": [],
   "source": [
    "a = 4 # 여기까지지지지지지지 git hub"
   ]
  },
  {
   "cell_type": "code",
   "execution_count": 6,
   "id": "7dbb7f60-a9a6-4162-a3e2-c073cdb9f90f",
   "metadata": {},
   "outputs": [],
   "source": [
    "b = 4 # 여기까 git hub version 2입니다."
   ]
  },
  {
   "cell_type": "code",
   "execution_count": null,
   "id": "e8123192-2873-49c6-a30a-34ad817243c9",
   "metadata": {},
   "outputs": [],
   "source": []
  },
  {
   "cell_type": "code",
   "execution_count": null,
   "id": "fa95ba69-ed3d-4b71-b340-19c35fc6b076",
   "metadata": {},
   "outputs": [],
   "source": []
  },
  {
   "cell_type": "code",
   "execution_count": null,
   "id": "9fc0658f-0671-48a9-bd2e-fea7504dfc01",
   "metadata": {},
   "outputs": [],
   "source": []
  },
  {
   "cell_type": "code",
   "execution_count": null,
   "id": "f60198a0-143e-4fb8-928f-4c5f2b021534",
   "metadata": {},
   "outputs": [],
   "source": []
  },
  {
   "cell_type": "code",
   "execution_count": null,
   "id": "b3b9d47f-fde5-462c-8b71-f3b3627e31df",
   "metadata": {},
   "outputs": [],
   "source": []
  },
  {
   "cell_type": "code",
   "execution_count": null,
   "id": "f9a33f6c-12aa-4218-b322-e4d0030b06b5",
   "metadata": {},
   "outputs": [],
   "source": []
  },
  {
   "cell_type": "code",
   "execution_count": null,
   "id": "ec5004fc-2182-48e7-9777-c647df6dea64",
   "metadata": {},
   "outputs": [],
   "source": []
  }
 ],
 "metadata": {
  "kernelspec": {
   "display_name": "Python 3.9.12 ('base')",
   "language": "python",
   "name": "python3"
  },
  "language_info": {
   "codemirror_mode": {
    "name": "ipython",
    "version": 3
   },
   "file_extension": ".py",
   "mimetype": "text/x-python",
   "name": "python",
   "nbconvert_exporter": "python",
   "pygments_lexer": "ipython3",
   "version": "3.9.12"
  },
  "vscode": {
   "interpreter": {
    "hash": "a077222d77dfe082b8f1dd562ad70e458ac2ab76993a0b248ab0476e32e9e8dd"
   }
  }
 },
 "nbformat": 4,
 "nbformat_minor": 5
}
